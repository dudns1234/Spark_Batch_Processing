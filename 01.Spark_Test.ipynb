{
 "cells": [
  {
   "cell_type": "markdown",
   "id": "f4834a1d",
   "metadata": {},
   "source": [
    "## Python으로 Spark사용 방법"
   ]
  },
  {
   "cell_type": "code",
   "execution_count": 3,
   "id": "73ae4539",
   "metadata": {},
   "outputs": [],
   "source": [
    "from pyspark import SparkConf, SparkContext"
   ]
  },
  {
   "cell_type": "code",
   "execution_count": 4,
   "id": "800d6ff1",
   "metadata": {},
   "outputs": [
    {
     "name": "stderr",
     "output_type": "stream",
     "text": [
      "Using Spark's default log4j profile: org/apache/spark/log4j-defaults.properties\n",
      "Setting default log level to \"WARN\".\n",
      "To adjust logging level use sc.setLogLevel(newLevel). For SparkR, use setLogLevel(newLevel).\n",
      "23/11/15 10:57:20 WARN NativeCodeLoader: Unable to load native-hadoop library for your platform... using builtin-java classes where applicable\n",
      "23/11/15 10:57:22 WARN Utils: Service 'SparkUI' could not bind on port 4040. Attempting port 4041.\n"
     ]
    },
    {
     "data": {
      "text/html": [
       "\n",
       "        <div>\n",
       "            <p><b>SparkContext</b></p>\n",
       "\n",
       "            <p><a href=\"http://0.0.0.0:4041\">Spark UI</a></p>\n",
       "\n",
       "            <dl>\n",
       "              <dt>Version</dt>\n",
       "                <dd><code>v3.2.4</code></dd>\n",
       "              <dt>Master</dt>\n",
       "                <dd><code>local</code></dd>\n",
       "              <dt>AppName</dt>\n",
       "                <dd><code>country-student-count</code></dd>\n",
       "            </dl>\n",
       "        </div>\n",
       "        "
      ],
      "text/plain": [
       "<SparkContext master=local appName=country-student-count>"
      ]
     },
     "execution_count": 4,
     "metadata": {},
     "output_type": "execute_result"
    }
   ],
   "source": [
    "# SparkConf : 스파크 실행환경 설정 클래스\n",
    "# SparkContext : DriverProgram 실행 환경 구성을 위한 클래스\n",
    "\n",
    "conf = SparkConf().setMaster(\"local\").setAppName(\"country-student-count\")\n",
    "\n",
    "# 변수명을 항상 sc로 설정할 것\n",
    "sc = SparkContext(conf=conf)\n",
    "sc"
   ]
  },
  {
   "cell_type": "code",
   "execution_count": 3,
   "id": "d9417865",
   "metadata": {},
   "outputs": [],
   "source": [
    "filepath = \"/home/ubuntu/working/spark-examples/data/xAPI-Edu-Data.csv\""
   ]
  },
  {
   "cell_type": "code",
   "execution_count": 4,
   "id": "6160a163",
   "metadata": {},
   "outputs": [
    {
     "data": {
      "text/plain": [
       "file:////home/ubuntu/working/spark-examples/data/xAPI-Edu-Data.csv MapPartitionsRDD[1] at textFile at NativeMethodAccessorImpl.java:0"
      ]
     },
     "execution_count": 4,
     "metadata": {},
     "output_type": "execute_result"
    }
   ],
   "source": [
    "# file:/// => 로컬 파일 시스템의 경로\n",
    "lines = sc.textFile(f\"file:///{filepath}\")\n",
    "lines"
   ]
  },
  {
   "cell_type": "code",
   "execution_count": 5,
   "id": "5b39fb31",
   "metadata": {},
   "outputs": [
    {
     "name": "stderr",
     "output_type": "stream",
     "text": [
      "                                                                                \r"
     ]
    },
    {
     "data": {
      "text/plain": [
       "'gender,NationalITy,PlaceofBirth,StageID,GradeID,SectionID,Topic,Semester,Relation,raisedhands,VisITedResources,AnnouncementsView,Discussion,ParentAnsweringSurvey,ParentschoolSatisfaction,StudentAbsenceDays,Class'"
      ]
     },
     "execution_count": 5,
     "metadata": {},
     "output_type": "execute_result"
    }
   ],
   "source": [
    "# 첫 번째 줄 불러오기 (header = 컬럼 불러오기)\n",
    "header = lines.first()\n",
    "header"
   ]
  },
  {
   "cell_type": "code",
   "execution_count": 7,
   "id": "224a6cf4",
   "metadata": {},
   "outputs": [
    {
     "data": {
      "text/plain": [
       "PythonRDD[3] at RDD at PythonRDD.scala:53"
      ]
     },
     "execution_count": 7,
     "metadata": {},
     "output_type": "execute_result"
    }
   ],
   "source": [
    "# 헤더를 제외한 모든 데이터 불러오기\n",
    "datas = lines.filter(lambda row : row != header)\n",
    "datas"
   ]
  },
  {
   "cell_type": "code",
   "execution_count": 8,
   "id": "c99e614d",
   "metadata": {},
   "outputs": [
    {
     "data": {
      "text/plain": [
       "PythonRDD[4] at RDD at PythonRDD.scala:53"
      ]
     },
     "execution_count": 8,
     "metadata": {},
     "output_type": "execute_result"
    }
   ],
   "source": [
    "countries = datas.map(lambda row : row.split(\",\")[2])\n",
    "countries"
   ]
  },
  {
   "cell_type": "code",
   "execution_count": 9,
   "id": "32baa2c7",
   "metadata": {},
   "outputs": [
    {
     "data": {
      "text/plain": [
       "['KuwaIT', 'KuwaIT', 'KuwaIT']"
      ]
     },
     "execution_count": 9,
     "metadata": {},
     "output_type": "execute_result"
    }
   ],
   "source": [
    "countries.collect()[:3]"
   ]
  },
  {
   "cell_type": "code",
   "execution_count": 10,
   "id": "c111133f",
   "metadata": {},
   "outputs": [
    {
     "data": {
      "text/plain": [
       "defaultdict(int,\n",
       "            {'KuwaIT': 142,\n",
       "             'lebanon': 11,\n",
       "             'Egypt': 3,\n",
       "             'SaudiArabia': 8,\n",
       "             'USA': 16,\n",
       "             'Jordan': 15,\n",
       "             'venzuela': 1,\n",
       "             'Iran': 4,\n",
       "             'Tunis': 8,\n",
       "             'Morocco': 4,\n",
       "             'Syria': 1})"
      ]
     },
     "execution_count": 10,
     "metadata": {},
     "output_type": "execute_result"
    }
   ],
   "source": [
    "result = countries.countByValue()\n",
    "result"
   ]
  },
  {
   "cell_type": "code",
   "execution_count": null,
   "id": "9b226b7f",
   "metadata": {},
   "outputs": [],
   "source": [
    "# filter만 map은 데이터의 변경이 일어남\n",
    "# 하지만 나머지에 대해서는 변경이 아니기 때문에 DAG에 나타남"
   ]
  },
  {
   "cell_type": "code",
   "execution_count": null,
   "id": "85b3948d",
   "metadata": {},
   "outputs": [],
   "source": [
    "sc.stop()"
   ]
  }
 ],
 "metadata": {
  "kernelspec": {
   "display_name": "Python 3 (ipykernel)",
   "language": "python",
   "name": "python3"
  },
  "language_info": {
   "codemirror_mode": {
    "name": "ipython",
    "version": 3
   },
   "file_extension": ".py",
   "mimetype": "text/x-python",
   "name": "python",
   "nbconvert_exporter": "python",
   "pygments_lexer": "ipython3",
   "version": "3.8.18"
  }
 },
 "nbformat": 4,
 "nbformat_minor": 5
}
