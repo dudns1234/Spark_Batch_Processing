{
 "cells": [
  {
   "cell_type": "code",
   "execution_count": 1,
   "id": "d94eb7a1",
   "metadata": {},
   "outputs": [
    {
     "name": "stderr",
     "output_type": "stream",
     "text": [
      "Using Spark's default log4j profile: org/apache/spark/log4j-defaults.properties\n",
      "Setting default log level to \"WARN\".\n",
      "To adjust logging level use sc.setLogLevel(newLevel). For SparkR, use setLogLevel(newLevel).\n",
      "23/11/15 13:10:19 WARN NativeCodeLoader: Unable to load native-hadoop library for your platform... using builtin-java classes where applicable\n"
     ]
    }
   ],
   "source": [
    "from pyspark import SparkConf, SparkContext\n",
    "\n",
    "conf = SparkConf().setMaster(\"local\").setAppName(\"reduction-op\")\n",
    "sc = SparkContext(conf=conf)"
   ]
  },
  {
   "cell_type": "markdown",
   "id": "d33e978b",
   "metadata": {},
   "source": [
    "# Reduce\n",
    "- `RDD.reduce(<task>)`\n",
    "- 사용자가 지정하는 task를 받아 여러 개의 값을 하나로 줄여준다."
   ]
  },
  {
   "cell_type": "code",
   "execution_count": 2,
   "id": "d7f4921a",
   "metadata": {},
   "outputs": [],
   "source": [
    "from operator import add"
   ]
  },
  {
   "cell_type": "code",
   "execution_count": 4,
   "id": "7585d95b",
   "metadata": {},
   "outputs": [
    {
     "name": "stderr",
     "output_type": "stream",
     "text": [
      "                                                                                \r"
     ]
    },
    {
     "data": {
      "text/plain": [
       "15"
      ]
     },
     "execution_count": 4,
     "metadata": {},
     "output_type": "execute_result"
    }
   ],
   "source": [
    "sample_rdd = sc.parallelize([1, 2, 3, 4, 5]).reduce(add) # add : lambda x, y : x + y\n",
    "sample_rdd"
   ]
  },
  {
   "cell_type": "markdown",
   "id": "05445a10",
   "metadata": {},
   "source": [
    "## 파티션에 따라 결과물이 달라진다.\n",
    "- 분산된 파티션들의 연산과 합치는 부분을 나눠서 생각해야 함"
   ]
  },
  {
   "cell_type": "markdown",
   "id": "9f00636e",
   "metadata": {},
   "source": [
    "```python\n",
    "lambda x, y : (x * 2) + y\n",
    "```"
   ]
  },
  {
   "cell_type": "code",
   "execution_count": 5,
   "id": "b2a9fba2",
   "metadata": {},
   "outputs": [
    {
     "data": {
      "text/plain": [
       "26"
      ]
     },
     "execution_count": 5,
     "metadata": {},
     "output_type": "execute_result"
    }
   ],
   "source": [
    "# 파티션이 1개인 경우\n",
    "sc.parallelize([1, 2, 3, 4]).reduce(lambda x, y : (x * 2) + y)"
   ]
  },
  {
   "cell_type": "code",
   "execution_count": 6,
   "id": "35b0042b",
   "metadata": {},
   "outputs": [
    {
     "data": {
      "text/plain": [
       "18"
      ]
     },
     "execution_count": 6,
     "metadata": {},
     "output_type": "execute_result"
    }
   ],
   "source": [
    "# 파티션이 2개인 경우\n",
    "sc.parallelize([1, 2, 3, 4], 2).reduce(lambda x, y : (x * 2) + y)"
   ]
  },
  {
   "cell_type": "code",
   "execution_count": 7,
   "id": "bcba151a",
   "metadata": {},
   "outputs": [
    {
     "data": {
      "text/plain": [
       "18"
      ]
     },
     "execution_count": 7,
     "metadata": {},
     "output_type": "execute_result"
    }
   ],
   "source": [
    "# 파티션이 3개인 경우\n",
    "sc.parallelize([1, 2, 3, 4], 3).reduce(lambda x, y : (x * 2) + y)"
   ]
  },
  {
   "cell_type": "code",
   "execution_count": 8,
   "id": "a487808a",
   "metadata": {},
   "outputs": [
    {
     "data": {
      "text/plain": [
       "26"
      ]
     },
     "execution_count": 8,
     "metadata": {},
     "output_type": "execute_result"
    }
   ],
   "source": [
    "# 파티션이 4개인 경우\n",
    "sc.parallelize([1, 2, 3, 4], 4).reduce(lambda x, y : (x * 2) + y)"
   ]
  },
  {
   "cell_type": "markdown",
   "id": "45536591",
   "metadata": {},
   "source": [
    "# Fold\n",
    "- `RDD.fold(zeroValue, <task>)`\n",
    "- `reduce`와 비슷하지만, 시작값을 zeroValue에 넣어놓고 `reduce`할 수 있다."
   ]
  },
  {
   "cell_type": "code",
   "execution_count": 9,
   "id": "5aea0470",
   "metadata": {},
   "outputs": [],
   "source": [
    "rdd = sc.parallelize([2, 3, 4], 4)"
   ]
  },
  {
   "cell_type": "code",
   "execution_count": 11,
   "id": "8da53e2d",
   "metadata": {},
   "outputs": [
    {
     "name": "stdout",
     "output_type": "stream",
     "text": [
      "24\n",
      "24\n"
     ]
    }
   ],
   "source": [
    "print(rdd.reduce(lambda x, y : (x * y))) # 2 * 3 = 6, 6 * 4 = 24\n",
    "print(rdd.fold(1, lambda x, y : (x * y))) "
   ]
  },
  {
   "cell_type": "code",
   "execution_count": 12,
   "id": "f25f3d97",
   "metadata": {},
   "outputs": [
    {
     "name": "stdout",
     "output_type": "stream",
     "text": [
      "9\n"
     ]
    }
   ],
   "source": [
    "print(rdd.reduce(lambda x, y : x + y))"
   ]
  },
  {
   "cell_type": "code",
   "execution_count": 13,
   "id": "50896e9a",
   "metadata": {},
   "outputs": [
    {
     "name": "stdout",
     "output_type": "stream",
     "text": [
      "14\n"
     ]
    }
   ],
   "source": [
    "print(rdd.fold(1, lambda x, y : x + y))"
   ]
  },
  {
   "cell_type": "markdown",
   "id": "7d41baea",
   "metadata": {},
   "source": [
    "# Aggregate( Action )\n",
    "- `RDD.aggregate(zeroValue, seqOp, combOp)`\n",
    "    - `zeroValue` : 각 파티션에서 누적할 시작값\n",
    "    - `seqOp` : 타입 변경 함수. 파티션 내부에서 사용할 task\n",
    "    - `combOp` : 합치는 함수. 파티션 끼리 사용할 task\n"
   ]
  },
  {
   "cell_type": "code",
   "execution_count": 14,
   "id": "3b6bc39a",
   "metadata": {},
   "outputs": [],
   "source": [
    "rdd = sc.parallelize([1, 2, 3, 4], 2)"
   ]
  },
  {
   "cell_type": "code",
   "execution_count": 15,
   "id": "fec0ce4e",
   "metadata": {},
   "outputs": [],
   "source": [
    "seqOp = (lambda x, y: (x[0] + y, x[1] + 1)) # 파티션 내의 연산\n",
    "combOp = (lambda x, y: (x[0] + y[0], x[1] + y[1])) # 파티션의 모든 결과를 최종 연산"
   ]
  },
  {
   "cell_type": "code",
   "execution_count": 16,
   "id": "000a3fe2",
   "metadata": {},
   "outputs": [
    {
     "data": {
      "text/plain": [
       "(10, 4)"
      ]
     },
     "execution_count": 16,
     "metadata": {},
     "output_type": "execute_result"
    }
   ],
   "source": [
    "rdd.aggregate((0, 0), seqOp, combOp)"
   ]
  },
  {
   "cell_type": "code",
   "execution_count": 17,
   "id": "1137a516",
   "metadata": {},
   "outputs": [],
   "source": [
    "sc.stop()"
   ]
  }
 ],
 "metadata": {
  "kernelspec": {
   "display_name": "Python 3 (ipykernel)",
   "language": "python",
   "name": "python3"
  },
  "language_info": {
   "codemirror_mode": {
    "name": "ipython",
    "version": 3
   },
   "file_extension": ".py",
   "mimetype": "text/x-python",
   "name": "python",
   "nbconvert_exporter": "python",
   "pygments_lexer": "ipython3",
   "version": "3.8.18"
  }
 },
 "nbformat": 4,
 "nbformat_minor": 5
}
