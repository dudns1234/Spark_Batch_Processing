{
 "cells": [
  {
   "cell_type": "code",
   "execution_count": 2,
   "id": "d257ac08",
   "metadata": {},
   "outputs": [
    {
     "name": "stderr",
     "output_type": "stream",
     "text": [
      "Using Spark's default log4j profile: org/apache/spark/log4j-defaults.properties\n",
      "Setting default log level to \"WARN\".\n",
      "To adjust logging level use sc.setLogLevel(newLevel). For SparkR, use setLogLevel(newLevel).\n",
      "23/11/15 11:14:58 WARN NativeCodeLoader: Unable to load native-hadoop library for your platform... using builtin-java classes where applicable\n"
     ]
    },
    {
     "data": {
      "text/html": [
       "\n",
       "        <div>\n",
       "            <p><b>SparkContext</b></p>\n",
       "\n",
       "            <p><a href=\"http://0.0.0.0:4040\">Spark UI</a></p>\n",
       "\n",
       "            <dl>\n",
       "              <dt>Version</dt>\n",
       "                <dd><code>v3.2.4</code></dd>\n",
       "              <dt>Master</dt>\n",
       "                <dd><code>local</code></dd>\n",
       "              <dt>AppName</dt>\n",
       "                <dd><code>transformations_actions</code></dd>\n",
       "            </dl>\n",
       "        </div>\n",
       "        "
      ],
      "text/plain": [
       "<SparkContext master=local appName=transformations_actions>"
      ]
     },
     "execution_count": 2,
     "metadata": {},
     "output_type": "execute_result"
    }
   ],
   "source": [
    "from pyspark import SparkConf, SparkContext\n",
    "\n",
    "conf = SparkConf().setMaster(\"local\").setAppName(\"transformations_actions\")\n",
    "sc = SparkContext(conf=conf)\n",
    "sc"
   ]
  },
  {
   "cell_type": "markdown",
   "id": "37ee7a25",
   "metadata": {},
   "source": [
    "# RDD 생성\n",
    "파이썬의 리스트를 이용해서 RDD 생성 = `parallelize` (병렬처리)"
   ]
  },
  {
   "cell_type": "code",
   "execution_count": 3,
   "id": "73de5514",
   "metadata": {},
   "outputs": [
    {
     "name": "stderr",
     "output_type": "stream",
     "text": [
      "                                                                                \r"
     ]
    },
    {
     "data": {
      "text/plain": [
       "['짜장면',\n",
       " '짬뽕',\n",
       " '마라탕',\n",
       " '떡볶이',\n",
       " '쌀국수',\n",
       " '짬뽕',\n",
       " '짜장면',\n",
       " '짜장면',\n",
       " '짬뽕',\n",
       " '마라탕',\n",
       " '라면',\n",
       " '라면',\n",
       " '우동',\n",
       " '쌀국수']"
      ]
     },
     "execution_count": 3,
     "metadata": {},
     "output_type": "execute_result"
    }
   ],
   "source": [
    "foods = sc.parallelize([\n",
    "    \"짜장면\", \"짬뽕\", \"마라탕\",\n",
    "    \"떡볶이\", \"쌀국수\",\"짬뽕\",\n",
    "    \"짜장면\", \"짜장면\", \"짬뽕\",\n",
    "    \"마라탕\", \"라면\", \"라면\",\n",
    "    \"우동\", \"쌀국수\"\n",
    "])\n",
    "foods.collect()"
   ]
  },
  {
   "cell_type": "markdown",
   "id": "d8bfc57f",
   "metadata": {},
   "source": [
    "# Actions\n",
    "- 미뤄왓던 Transformations 작업을 모두 실행학, 그 결과를 반환하는 작업\n",
    "- RDD 생성이 아닌, 실제 데이터를 출력하는 역할을 한다."
   ]
  },
  {
   "cell_type": "code",
   "execution_count": 4,
   "id": "e9bd9925",
   "metadata": {},
   "outputs": [
    {
     "name": "stderr",
     "output_type": "stream",
     "text": [
      "                                                                                \r"
     ]
    },
    {
     "data": {
      "text/plain": [
       "defaultdict(int,\n",
       "            {'짜장면': 3,\n",
       "             '짬뽕': 3,\n",
       "             '마라탕': 2,\n",
       "             '떡볶이': 1,\n",
       "             '쌀국수': 2,\n",
       "             '라면': 2,\n",
       "             '우동': 1})"
      ]
     },
     "execution_count": 4,
     "metadata": {},
     "output_type": "execute_result"
    }
   ],
   "source": [
    "# 각 원소 별 개수 세기\n",
    "foods.countByValue()"
   ]
  },
  {
   "cell_type": "code",
   "execution_count": 5,
   "id": "e4aec839",
   "metadata": {},
   "outputs": [
    {
     "data": {
      "text/plain": [
       "['짜장면', '짬뽕', '마라탕', '떡볶이', '쌀국수']"
      ]
     },
     "execution_count": 5,
     "metadata": {},
     "output_type": "execute_result"
    }
   ],
   "source": [
    "# 상위 n개의 데이터 가져오기\n",
    "foods.take(5)"
   ]
  },
  {
   "cell_type": "code",
   "execution_count": 6,
   "id": "1dcb2cb8",
   "metadata": {},
   "outputs": [
    {
     "data": {
      "text/plain": [
       "['짜장면',\n",
       " '짬뽕',\n",
       " '마라탕',\n",
       " '떡볶이',\n",
       " '쌀국수',\n",
       " '짬뽕',\n",
       " '짜장면',\n",
       " '짜장면',\n",
       " '짬뽕',\n",
       " '마라탕',\n",
       " '라면',\n",
       " '라면',\n",
       " '우동',\n",
       " '쌀국수']"
      ]
     },
     "execution_count": 6,
     "metadata": {},
     "output_type": "execute_result"
    }
   ],
   "source": [
    "# 전체 데이터 가져오기\n",
    "foods.collect()"
   ]
  },
  {
   "cell_type": "code",
   "execution_count": 7,
   "id": "1451d0be",
   "metadata": {},
   "outputs": [
    {
     "data": {
      "text/plain": [
       "14"
      ]
     },
     "execution_count": 7,
     "metadata": {},
     "output_type": "execute_result"
    }
   ],
   "source": [
    "# RDD 크기 구하기\n",
    "foods.count()"
   ]
  },
  {
   "cell_type": "markdown",
   "id": "c9aaac5d",
   "metadata": {},
   "source": [
    "# Transformations\n",
    "## Narrow Transformations\n",
    "- 1:1 변환을 의미한다.\n",
    "- 하나의 열을 조작하기 위해서 다른 열이나 파티션의 데이터를 사용하지 않는다."
   ]
  },
  {
   "cell_type": "code",
   "execution_count": 8,
   "id": "cb60bbd8",
   "metadata": {},
   "outputs": [
    {
     "data": {
      "text/plain": [
       "ParallelCollectionRDD[4] at readRDDFromFile at PythonRDD.scala:274"
      ]
     },
     "execution_count": 8,
     "metadata": {},
     "output_type": "execute_result"
    }
   ],
   "source": [
    "# map(<task>)\n",
    "# RDD 내의 데이터를 하나씩 꺼내서 `<task>`가 적용된 새로운 RDD가 만들어진다.\n",
    "simple_rdd = sc.parallelize([1,2,3])\n",
    "simple_rdd"
   ]
  },
  {
   "cell_type": "code",
   "execution_count": 9,
   "id": "7ebdca28",
   "metadata": {},
   "outputs": [
    {
     "data": {
      "text/plain": [
       "PythonRDD[5] at RDD at PythonRDD.scala:53"
      ]
     },
     "execution_count": 9,
     "metadata": {},
     "output_type": "execute_result"
    }
   ],
   "source": [
    "# task 함수를 정의할 때 \"반드시\" 리턴이 있어야 한다. 없으면 None이 나옴!!\n",
    "simple_rdd2 = simple_rdd.map(lambda x : x * 2) # lambda식은 return이 있는데 생략되어있는것임. lambda x : return(x * 2)\n",
    "simple_rdd2"
   ]
  },
  {
   "cell_type": "code",
   "execution_count": 10,
   "id": "81328c33",
   "metadata": {},
   "outputs": [
    {
     "data": {
      "text/plain": [
       "[2, 4, 6]"
      ]
     },
     "execution_count": 10,
     "metadata": {},
     "output_type": "execute_result"
    }
   ],
   "source": [
    "simple_rdd2.collect()"
   ]
  },
  {
   "cell_type": "markdown",
   "id": "537c8cee",
   "metadata": {},
   "source": [
    "### `flatMap(<task>)`\n",
    "- flat -> 1차원배열을 의미\n",
    "- map 함수와 매우 흡사하나, flatMap함수는 map의 모든 결과를 1차원 배열 형식으로 "
   ]
  },
  {
   "cell_type": "code",
   "execution_count": 13,
   "id": "59b105f0",
   "metadata": {},
   "outputs": [],
   "source": [
    "movies = [\n",
    "    \"그린 북\",\n",
    "    \"매트릭스\",\n",
    "    \"토이 스토리\",\n",
    "    \"캐스트 어웨이\",\n",
    "    \"포드 V 페라리\",\n",
    "    \"보헤미안 랩소디\",\n",
    "    \"빽 투 더 퓨처\",\n",
    "    \"반지의 제왕\",\n",
    "    \"죽은 시인의 사회\"\n",
    "]"
   ]
  },
  {
   "cell_type": "code",
   "execution_count": 14,
   "id": "fd7b696b",
   "metadata": {},
   "outputs": [
    {
     "data": {
      "text/plain": [
       "['그린 북',\n",
       " '매트릭스',\n",
       " '토이 스토리',\n",
       " '캐스트 어웨이',\n",
       " '포드 V 페라리',\n",
       " '보헤미안 랩소디',\n",
       " '빽 투 더 퓨처',\n",
       " '반지의 제왕',\n",
       " '죽은 시인의 사회']"
      ]
     },
     "execution_count": 14,
     "metadata": {},
     "output_type": "execute_result"
    }
   ],
   "source": [
    "moviesRDD = sc.parallelize(movies)\n",
    "moviesRDD.collect()"
   ]
  },
  {
   "cell_type": "code",
   "execution_count": 15,
   "id": "4542e9a9",
   "metadata": {},
   "outputs": [
    {
     "data": {
      "text/plain": [
       "[['그린', '북'],\n",
       " ['매트릭스'],\n",
       " ['토이', '스토리'],\n",
       " ['캐스트', '어웨이'],\n",
       " ['포드', 'V', '페라리'],\n",
       " ['보헤미안', '랩소디'],\n",
       " ['빽', '투', '더', '퓨처'],\n",
       " ['반지의', '제왕'],\n",
       " ['죽은', '시인의', '사회']]"
      ]
     },
     "execution_count": 15,
     "metadata": {},
     "output_type": "execute_result"
    }
   ],
   "source": [
    "mapMovies = moviesRDD.map(lambda x : x.split()) # x = 영화제목\n",
    "mapMovies.collect()"
   ]
  },
  {
   "cell_type": "code",
   "execution_count": 16,
   "id": "10cad397",
   "metadata": {},
   "outputs": [
    {
     "data": {
      "text/plain": [
       "['그린',\n",
       " '북',\n",
       " '매트릭스',\n",
       " '토이',\n",
       " '스토리',\n",
       " '캐스트',\n",
       " '어웨이',\n",
       " '포드',\n",
       " 'V',\n",
       " '페라리',\n",
       " '보헤미안',\n",
       " '랩소디',\n",
       " '빽',\n",
       " '투',\n",
       " '더',\n",
       " '퓨처',\n",
       " '반지의',\n",
       " '제왕',\n",
       " '죽은',\n",
       " '시인의',\n",
       " '사회']"
      ]
     },
     "execution_count": 16,
     "metadata": {},
     "output_type": "execute_result"
    }
   ],
   "source": [
    "flatMapMovies = moviesRDD.flatMap(lambda x : x.split())\n",
    "flatMapMovies.collect()"
   ]
  },
  {
   "cell_type": "markdown",
   "id": "ba44eb59",
   "metadata": {},
   "source": [
    "### `filter(<task>)`\n",
    "- `task`의 결과가 True인 데이터만 추출"
   ]
  },
  {
   "cell_type": "code",
   "execution_count": 19,
   "id": "50d1979a",
   "metadata": {},
   "outputs": [
    {
     "data": {
      "text/plain": [
       "['그린',\n",
       " '북',\n",
       " '토이',\n",
       " '스토리',\n",
       " '캐스트',\n",
       " '어웨이',\n",
       " '포드',\n",
       " 'V',\n",
       " '페라리',\n",
       " '보헤미안',\n",
       " '랩소디',\n",
       " '빽',\n",
       " '투',\n",
       " '더',\n",
       " '퓨처',\n",
       " '반지의',\n",
       " '제왕',\n",
       " '죽은',\n",
       " '시인의',\n",
       " '사회']"
      ]
     },
     "execution_count": 19,
     "metadata": {},
     "output_type": "execute_result"
    }
   ],
   "source": [
    "filtered_movies = flatMapMovies.filter(lambda x : x != '매트릭스')\n",
    "filtered_movies.collect()"
   ]
  },
  {
   "cell_type": "markdown",
   "id": "e38d565b",
   "metadata": {},
   "source": [
    "## Wide Transformations\n",
    "- 데이터의 파티션 또는 노드가 바뀔 수 있는 변환\n",
    "- 셔플링이 일어날 수 있기 때문에 느리다."
   ]
  },
  {
   "cell_type": "code",
   "execution_count": 21,
   "id": "10b3c08d",
   "metadata": {},
   "outputs": [
    {
     "data": {
      "text/plain": [
       "['짜장면',\n",
       " '짬뽕',\n",
       " '마라탕',\n",
       " '떡볶이',\n",
       " '쌀국수',\n",
       " '짬뽕',\n",
       " '짜장면',\n",
       " '짜장면',\n",
       " '짬뽕',\n",
       " '마라탕',\n",
       " '라면',\n",
       " '라면',\n",
       " '우동',\n",
       " '쌀국수',\n",
       " '짬뽕밥',\n",
       " '짬짜면',\n",
       " '볶음밥',\n",
       " '볶짬면']"
      ]
     },
     "execution_count": 21,
     "metadata": {},
     "output_type": "execute_result"
    }
   ],
   "source": [
    "foods = sc.parallelize([\n",
    "    \"짜장면\", \"짬뽕\", \"마라탕\",\n",
    "    \"떡볶이\", \"쌀국수\",\"짬뽕\",\n",
    "    \"짜장면\", \"짜장면\", \"짬뽕\",\n",
    "    \"마라탕\", \"라면\", \"라면\",\n",
    "    \"우동\", \"쌀국수\", \"짬뽕밥\", \"짬짜면\", \"볶음밥\", \"볶짬면\"\n",
    "])\n",
    "foods.collect()"
   ]
  },
  {
   "cell_type": "markdown",
   "id": "27e8b047",
   "metadata": {},
   "source": [
    "### `groupBy(<task>)`\n",
    "- groupBy의 task는 데이터를 묶어줄 수 있는 기준을 설정 (map:변환 task)"
   ]
  },
  {
   "cell_type": "code",
   "execution_count": 23,
   "id": "1253394d",
   "metadata": {},
   "outputs": [
    {
     "data": {
      "text/plain": [
       "PythonRDD[21] at RDD at PythonRDD.scala:53"
      ]
     },
     "execution_count": 23,
     "metadata": {},
     "output_type": "execute_result"
    }
   ],
   "source": [
    "# 그룹핑의 기준을 각 원소의 첫 글자로 설정\n",
    "foodsGroup = foods.groupBy(lambda x : x[0])\n",
    "foodsGroup"
   ]
  },
  {
   "cell_type": "code",
   "execution_count": 24,
   "id": "edcd2126",
   "metadata": {},
   "outputs": [
    {
     "data": {
      "text/plain": [
       "[('짜', <pyspark.resultiterable.ResultIterable at 0x7f1d4c4d03a0>),\n",
       " ('짬', <pyspark.resultiterable.ResultIterable at 0x7f1d4c202a90>),\n",
       " ('마', <pyspark.resultiterable.ResultIterable at 0x7f1d4c202be0>),\n",
       " ('떡', <pyspark.resultiterable.ResultIterable at 0x7f1d4c2025e0>),\n",
       " ('쌀', <pyspark.resultiterable.ResultIterable at 0x7f1d4c202520>),\n",
       " ('라', <pyspark.resultiterable.ResultIterable at 0x7f1d4c330250>),\n",
       " ('우', <pyspark.resultiterable.ResultIterable at 0x7f1d4c47a400>),\n",
       " ('볶', <pyspark.resultiterable.ResultIterable at 0x7f1d4c47a940>)]"
      ]
     },
     "execution_count": 24,
     "metadata": {},
     "output_type": "execute_result"
    }
   ],
   "source": [
    "result = foodsGroup.collect()\n",
    "result  # (앞글자 = key, 그룹 = value)"
   ]
  },
  {
   "cell_type": "code",
   "execution_count": 25,
   "id": "97856b92",
   "metadata": {},
   "outputs": [
    {
     "name": "stdout",
     "output_type": "stream",
     "text": [
      "짜 ['짜장면', '짜장면', '짜장면']\n",
      "짬 ['짬뽕', '짬뽕', '짬뽕', '짬뽕밥', '짬짜면']\n",
      "마 ['마라탕', '마라탕']\n",
      "떡 ['떡볶이']\n",
      "쌀 ['쌀국수', '쌀국수']\n",
      "라 ['라면', '라면']\n",
      "우 ['우동']\n",
      "볶 ['볶음밥', '볶짬면']\n"
     ]
    }
   ],
   "source": [
    "for k,v in result:\n",
    "    print(k, list(v))"
   ]
  },
  {
   "cell_type": "code",
   "execution_count": 26,
   "id": "87282bbe",
   "metadata": {},
   "outputs": [],
   "source": [
    "sc.stop()"
   ]
  }
 ],
 "metadata": {
  "kernelspec": {
   "display_name": "Python 3 (ipykernel)",
   "language": "python",
   "name": "python3"
  },
  "language_info": {
   "codemirror_mode": {
    "name": "ipython",
    "version": 3
   },
   "file_extension": ".py",
   "mimetype": "text/x-python",
   "name": "python",
   "nbconvert_exporter": "python",
   "pygments_lexer": "ipython3",
   "version": "3.8.18"
  }
 },
 "nbformat": 4,
 "nbformat_minor": 5
}
