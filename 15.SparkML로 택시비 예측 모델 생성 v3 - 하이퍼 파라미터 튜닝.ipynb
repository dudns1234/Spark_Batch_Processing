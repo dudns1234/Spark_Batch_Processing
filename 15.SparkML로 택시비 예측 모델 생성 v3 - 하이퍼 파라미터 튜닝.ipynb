{
 "cells": [
  {
   "cell_type": "code",
   "execution_count": 2,
   "id": "72a80628",
   "metadata": {},
   "outputs": [
    {
     "name": "stderr",
     "output_type": "stream",
     "text": [
      "Using Spark's default log4j profile: org/apache/spark/log4j-defaults.properties\n",
      "Setting default log level to \"WARN\".\n",
      "To adjust logging level use sc.setLogLevel(newLevel). For SparkR, use setLogLevel(newLevel).\n",
      "23/11/20 15:16:51 WARN NativeCodeLoader: Unable to load native-hadoop library for your platform... using builtin-java classes where applicable\n"
     ]
    },
    {
     "data": {
      "text/html": [
       "\n",
       "            <div>\n",
       "                <p><b>SparkSession - in-memory</b></p>\n",
       "                \n",
       "        <div>\n",
       "            <p><b>SparkContext</b></p>\n",
       "\n",
       "            <p><a href=\"http://0.0.0.0:4040\">Spark UI</a></p>\n",
       "\n",
       "            <dl>\n",
       "              <dt>Version</dt>\n",
       "                <dd><code>v3.2.4</code></dd>\n",
       "              <dt>Master</dt>\n",
       "                <dd><code>local[*]</code></dd>\n",
       "              <dt>AppName</dt>\n",
       "                <dd><code>taxi-fare-prediciton</code></dd>\n",
       "            </dl>\n",
       "        </div>\n",
       "        \n",
       "            </div>\n",
       "        "
      ],
      "text/plain": [
       "<pyspark.sql.session.SparkSession at 0x7ff05d0016a0>"
      ]
     },
     "execution_count": 2,
     "metadata": {},
     "output_type": "execute_result"
    }
   ],
   "source": [
    "from pyspark.sql import SparkSession\n",
    "\n",
    "MAX_MEMORY=\"5g\"\n",
    "spark = SparkSession.builder.appName(\"taxi-fare-prediciton\")\\\n",
    "                .config(\"spark.executor.memory\", MAX_MEMORY)\\\n",
    "                .config(\"spark.driver.memory\", MAX_MEMORY)\\\n",
    "                .getOrCreate()\n",
    "\n",
    "spark"
   ]
  },
  {
   "cell_type": "markdown",
   "id": "1be3b348",
   "metadata": {},
   "source": [
    "# 전처리 된 데이터 불러오기"
   ]
  },
  {
   "cell_type": "code",
   "execution_count": 3,
   "id": "023e95ae",
   "metadata": {},
   "outputs": [
    {
     "name": "stderr",
     "output_type": "stream",
     "text": [
      "                                                                                \r"
     ]
    }
   ],
   "source": [
    "# 분산 저장 되어서 파티션으로 분리된 파일 불러오기\n",
    "save_dir=\"/home/ubuntu/working/spark-examples/data/ml-data\"\n",
    "\n",
    "train_sdf = spark.read.parquet(f\"{save_dir}/train/\")\n",
    "test_sdf  = spark.read.parquet(f\"{save_dir}/test/\")"
   ]
  },
  {
   "cell_type": "code",
   "execution_count": 4,
   "id": "7b9efa1f",
   "metadata": {},
   "outputs": [
    {
     "name": "stdout",
     "output_type": "stream",
     "text": [
      "root\n",
      " |-- passenger_count: integer (nullable = true)\n",
      " |-- pickup_location_id: integer (nullable = true)\n",
      " |-- dropoff_location_id: integer (nullable = true)\n",
      " |-- trip_distance: double (nullable = true)\n",
      " |-- pickup_time: integer (nullable = true)\n",
      " |-- day_of_week: string (nullable = true)\n",
      " |-- total_amount: double (nullable = true)\n",
      "\n"
     ]
    }
   ],
   "source": [
    "train_sdf.printSchema()"
   ]
  },
  {
   "cell_type": "code",
   "execution_count": 5,
   "id": "535c9aba",
   "metadata": {},
   "outputs": [
    {
     "name": "stdout",
     "output_type": "stream",
     "text": [
      "root\n",
      " |-- passenger_count: integer (nullable = true)\n",
      " |-- pickup_location_id: integer (nullable = true)\n",
      " |-- dropoff_location_id: integer (nullable = true)\n",
      " |-- trip_distance: double (nullable = true)\n",
      " |-- pickup_time: integer (nullable = true)\n",
      " |-- day_of_week: string (nullable = true)\n",
      " |-- total_amount: double (nullable = true)\n",
      "\n"
     ]
    }
   ],
   "source": [
    "test_sdf.printSchema()"
   ]
  },
  {
   "cell_type": "markdown",
   "id": "842d9e0f",
   "metadata": {},
   "source": [
    "# 파이프라인 구성"
   ]
  },
  {
   "cell_type": "code",
   "execution_count": 6,
   "id": "87967fc4",
   "metadata": {},
   "outputs": [
    {
     "data": {
      "text/plain": [
       "[StringIndexer_aa6c35df4e79,\n",
       " OneHotEncoder_0ec8a75efcac,\n",
       " StringIndexer_c5cf22055832,\n",
       " OneHotEncoder_99880033cb57,\n",
       " StringIndexer_bcb819e1daef,\n",
       " OneHotEncoder_a60430c83057,\n",
       " VectorAssembler_7696b0785383,\n",
       " StandardScaler_447ed3850c1b,\n",
       " VectorAssembler_752ce6251410,\n",
       " StandardScaler_e4869511a6b3,\n",
       " VectorAssembler_904120698ba8,\n",
       " StandardScaler_daa41b3b075d,\n",
       " VectorAssembler_cb8b4fd39237]"
      ]
     },
     "execution_count": 6,
     "metadata": {},
     "output_type": "execute_result"
    }
   ],
   "source": [
    "from pyspark.ml.feature import OneHotEncoder, StringIndexer\n",
    "from pyspark.ml.feature import VectorAssembler, StandardScaler\n",
    "\n",
    "stages = []\n",
    "\n",
    "cat_features = [\n",
    "    \"pickup_location_id\",\n",
    "    \"dropoff_location_id\",\n",
    "    \"day_of_week\"\n",
    "]\n",
    "\n",
    "for c in cat_features:\n",
    "    cat_indexer = StringIndexer(inputCol=c, outputCol=c+\"_idx\").setHandleInvalid(\"keep\")\n",
    "    onehot_encoder = OneHotEncoder(inputCols=[cat_indexer.getOutputCol()],\n",
    "                                   outputCols=[c+\"_onehot\"])\n",
    "    \n",
    "    stages += [cat_indexer, onehot_encoder]\n",
    "\n",
    "num_features = [\n",
    "    \"passenger_count\",\n",
    "    \"trip_distance\",\n",
    "    \"pickup_time\"\n",
    "]\n",
    "\n",
    "for n in num_features:\n",
    "    num_assembler = VectorAssembler(inputCols=[n], outputCol=n+\"_vector\")\n",
    "    num_scaler = StandardScaler(inputCol=num_assembler.getOutputCol(), outputCol=n+\"_scaled\")\n",
    "    \n",
    "    stages += [num_assembler, num_scaler]\n",
    "\n",
    "assembler_inputs = [c + \"_onehot\" for c in cat_features] + [n + \"_scaled\" for n in num_features]\n",
    "assembler = VectorAssembler(inputCols=assembler_inputs, outputCol=\"feature_vector\")\n",
    "stages += [assembler]\n",
    "\n",
    "stages"
   ]
  },
  {
   "cell_type": "markdown",
   "id": "be2a66f7",
   "metadata": {},
   "source": [
    "# 하이퍼 파라미터 튜닝\n",
    "GridSearch + Cross Validation을 수행하여 최적의 하이퍼 파라미터를 얻어내기"
   ]
  },
  {
   "cell_type": "code",
   "execution_count": 7,
   "id": "4826a97a",
   "metadata": {},
   "outputs": [
    {
     "data": {
      "text/plain": [
       "[StringIndexer_aa6c35df4e79,\n",
       " OneHotEncoder_0ec8a75efcac,\n",
       " StringIndexer_c5cf22055832,\n",
       " OneHotEncoder_99880033cb57,\n",
       " StringIndexer_bcb819e1daef,\n",
       " OneHotEncoder_a60430c83057,\n",
       " VectorAssembler_7696b0785383,\n",
       " StandardScaler_447ed3850c1b,\n",
       " VectorAssembler_752ce6251410,\n",
       " StandardScaler_e4869511a6b3,\n",
       " VectorAssembler_904120698ba8,\n",
       " StandardScaler_daa41b3b075d,\n",
       " VectorAssembler_cb8b4fd39237,\n",
       " LinearRegression_676ccd5c1a01]"
      ]
     },
     "execution_count": 7,
     "metadata": {},
     "output_type": "execute_result"
    }
   ],
   "source": [
    "# 모델 까지를 파이프라인에 넣고, 모델이 추가된 파이프라인을 그리드 서치에 사용\n",
    "from pyspark.ml.regression import LinearRegression # 튜닝할 모델\n",
    "\n",
    "# 모델 생성\n",
    "lr = LinearRegression(\n",
    "    maxIter=30,\n",
    "    solver='normal',\n",
    "    labelCol='total_amount',\n",
    "    featuresCol='feature_vector'\n",
    ")\n",
    "\n",
    "# LinearRegression 모델 까지가 하나의 파이프라인이 된다.\n",
    "cv_stages = stages + [lr]\n",
    "cv_stages"
   ]
  },
  {
   "cell_type": "markdown",
   "id": "e75ef7e7",
   "metadata": {},
   "source": [
    "## 파이프라인 생성"
   ]
  },
  {
   "cell_type": "code",
   "execution_count": 8,
   "id": "e0cae3de",
   "metadata": {},
   "outputs": [],
   "source": [
    "from pyspark.ml import Pipeline\n",
    "\n",
    "cv_pipeline = Pipeline(stages=cv_stages)"
   ]
  },
  {
   "cell_type": "markdown",
   "id": "e5c68ff2",
   "metadata": {},
   "source": [
    "# GridSearch 및 Cross Validation 설정"
   ]
  },
  {
   "cell_type": "code",
   "execution_count": 9,
   "id": "07cbbcd1",
   "metadata": {},
   "outputs": [],
   "source": [
    "from pyspark.ml.tuning import CrossValidator, ParamGridBuilder\n",
    "from pyspark.ml.evaluation import RegressionEvaluator\n",
    "\n",
    "# GridSearch를 위한 하이퍼 파라미터 정의\n",
    "param_grid = (\n",
    "    ParamGridBuilder()\n",
    "        .addGrid(lr.elasticNetParam, [0.1,0.2,0.3,0.4,0.5])\n",
    "        .addGrid(lr.regParam, [0.01,0.02,0.03,0.04,0.05])\n",
    "        .build()\n",
    ")"
   ]
  },
  {
   "cell_type": "code",
   "execution_count": 10,
   "id": "98bb0936",
   "metadata": {},
   "outputs": [],
   "source": [
    "# CrossValidator\n",
    "\n",
    "cross_val = CrossValidator(\n",
    "    estimator = cv_pipeline, # estimator : 추정기. 여기에서는 파이프라인 자체가 마지막에 추정(예측)을 한다.\n",
    "    estimatorParamMaps = param_grid, #GridSearch를 수행할 파라미터가 들어있는 ParamGridBuilder\n",
    "    evaluator=RegressionEvaluator(labelCol='total_amount'), # 성능평가기준\n",
    "    numFolds=5 # 폴드의 개수\n",
    ")"
   ]
  },
  {
   "cell_type": "code",
   "execution_count": 11,
   "id": "466303b4",
   "metadata": {},
   "outputs": [
    {
     "name": "stdout",
     "output_type": "stream",
     "text": [
      "root\n",
      " |-- passenger_count: integer (nullable = true)\n",
      " |-- pickup_location_id: integer (nullable = true)\n",
      " |-- dropoff_location_id: integer (nullable = true)\n",
      " |-- trip_distance: double (nullable = true)\n",
      " |-- pickup_time: integer (nullable = true)\n",
      " |-- day_of_week: string (nullable = true)\n",
      " |-- total_amount: double (nullable = true)\n",
      "\n"
     ]
    }
   ],
   "source": [
    "# 임의의 데이터 세트를 생성. 전체로 다 하면 시간이 너무 많이 걸릴 것 같음\n",
    "\n",
    "# 전체 훈련 데이터에서 1%만 사용\n",
    "toy_df = train_sdf.sample(False, 0.01, seed=1) # False : 복원추출안함(한번뽑은건 안뽑음)\n",
    "toy_df.printSchema()"
   ]
  },
  {
   "cell_type": "code",
   "execution_count": 12,
   "id": "093b60f6",
   "metadata": {},
   "outputs": [
    {
     "name": "stderr",
     "output_type": "stream",
     "text": [
      "23/11/20 15:23:53 WARN InstanceBuilder$NativeBLAS: Failed to load implementation from:dev.ludovic.netlib.blas.JNIBLAS\n",
      "23/11/20 15:23:53 WARN InstanceBuilder$NativeBLAS: Failed to load implementation from:dev.ludovic.netlib.blas.ForeignLinkerBLAS\n",
      "23/11/20 15:23:54 WARN BLAS: Failed to load implementation from: com.github.fommil.netlib.NativeSystemBLAS\n",
      "23/11/20 15:23:54 WARN BLAS: Failed to load implementation from: com.github.fommil.netlib.NativeRefBLAS\n",
      "                                                                                \r"
     ]
    }
   ],
   "source": [
    "cv_model = cross_val.fit(toy_df)"
   ]
  },
  {
   "cell_type": "markdown",
   "id": "ed6955df",
   "metadata": {},
   "source": [
    "GridSearch의 결과에서 가장 성능이 좋았던 모델을 가지고 오거나, 가장 성능이 좋았던 모델의 하이퍼 파라미터를 추출"
   ]
  },
  {
   "cell_type": "code",
   "execution_count": 14,
   "id": "40e8fc9e",
   "metadata": {},
   "outputs": [],
   "source": [
    "# 성능이 가장 좋았던 모델. 파이프라인의 제일 마지막이 모델이다!\n",
    "best_model = cv_model.bestModel.stages[-1] # bestModel도 파이프라인\n",
    "\n",
    "# 모델로 부터 최적의 파라미터 추출\n",
    "alpha = best_model._java_obj.getElasticNetParam()\n",
    "reg_param = best_model._java_obj.getRegParam()"
   ]
  },
  {
   "cell_type": "code",
   "execution_count": 15,
   "id": "200a49a8",
   "metadata": {},
   "outputs": [
    {
     "data": {
      "text/plain": [
       "(0.5, 0.03)"
      ]
     },
     "execution_count": 15,
     "metadata": {},
     "output_type": "execute_result"
    }
   ],
   "source": [
    "alpha, reg_param"
   ]
  },
  {
   "cell_type": "markdown",
   "id": "cf3033b4",
   "metadata": {},
   "source": [
    "# 최적의 성능을 냈던 파라미터를 이용해 모델 재훈련"
   ]
  },
  {
   "cell_type": "code",
   "execution_count": 16,
   "id": "b96860bc",
   "metadata": {},
   "outputs": [
    {
     "name": "stderr",
     "output_type": "stream",
     "text": [
      "                                                                                \r"
     ]
    }
   ],
   "source": [
    "# 데이터 변환 파이프라인을 따로 정의\n",
    "pipeline = Pipeline(stages=stages)\n",
    "\n",
    "fitted_transformer = pipeline.fit(train_sdf)"
   ]
  },
  {
   "cell_type": "code",
   "execution_count": 17,
   "id": "3961e674",
   "metadata": {},
   "outputs": [
    {
     "name": "stdout",
     "output_type": "stream",
     "text": [
      "root\n",
      " |-- passenger_count: integer (nullable = true)\n",
      " |-- pickup_location_id: integer (nullable = true)\n",
      " |-- dropoff_location_id: integer (nullable = true)\n",
      " |-- trip_distance: double (nullable = true)\n",
      " |-- pickup_time: integer (nullable = true)\n",
      " |-- day_of_week: string (nullable = true)\n",
      " |-- total_amount: double (nullable = true)\n",
      " |-- pickup_location_id_idx: double (nullable = false)\n",
      " |-- pickup_location_id_onehot: vector (nullable = true)\n",
      " |-- dropoff_location_id_idx: double (nullable = false)\n",
      " |-- dropoff_location_id_onehot: vector (nullable = true)\n",
      " |-- day_of_week_idx: double (nullable = false)\n",
      " |-- day_of_week_onehot: vector (nullable = true)\n",
      " |-- passenger_count_vector: vector (nullable = true)\n",
      " |-- passenger_count_scaled: vector (nullable = true)\n",
      " |-- trip_distance_vector: vector (nullable = true)\n",
      " |-- trip_distance_scaled: vector (nullable = true)\n",
      " |-- pickup_time_vector: vector (nullable = true)\n",
      " |-- pickup_time_scaled: vector (nullable = true)\n",
      " |-- feature_vector: vector (nullable = true)\n",
      "\n"
     ]
    }
   ],
   "source": [
    "vec_train_sdf = fitted_transformer.transform(train_sdf)\n",
    "vec_train_sdf.printSchema()"
   ]
  },
  {
   "cell_type": "code",
   "execution_count": 19,
   "id": "c6742136",
   "metadata": {},
   "outputs": [],
   "source": [
    "lr = LinearRegression(\n",
    "    maxIter=50,\n",
    "    solver='normal',\n",
    "    labelCol='total_amount',\n",
    "    featuresCol='feature_vector',\n",
    "\n",
    "    # GridSearch를 통해 얻어낸 하이퍼 파라미터를 직접 설정\n",
    "    elasticNetParam=alpha,\n",
    "    regParam=reg_param\n",
    ")"
   ]
  },
  {
   "cell_type": "code",
   "execution_count": 20,
   "id": "5622a379",
   "metadata": {},
   "outputs": [
    {
     "name": "stderr",
     "output_type": "stream",
     "text": [
      "                                                                                \r"
     ]
    }
   ],
   "source": [
    "lr_model = lr.fit(vec_train_sdf)"
   ]
  },
  {
   "cell_type": "code",
   "execution_count": 21,
   "id": "b96a41da",
   "metadata": {},
   "outputs": [
    {
     "data": {
      "text/plain": [
       "DataFrame[passenger_count: int, pickup_location_id: int, dropoff_location_id: int, trip_distance: double, pickup_time: int, day_of_week: string, total_amount: double, pickup_location_id_idx: double, pickup_location_id_onehot: vector, dropoff_location_id_idx: double, dropoff_location_id_onehot: vector, day_of_week_idx: double, day_of_week_onehot: vector, passenger_count_vector: vector, passenger_count_scaled: vector, trip_distance_vector: vector, trip_distance_scaled: vector, pickup_time_vector: vector, pickup_time_scaled: vector, feature_vector: vector, prediction: double]"
      ]
     },
     "execution_count": 21,
     "metadata": {},
     "output_type": "execute_result"
    }
   ],
   "source": [
    "vec_test_sdf = fitted_transformer.transform(test_sdf)\n",
    "\n",
    "predictions = lr_model.transform(vec_test_sdf)\n",
    "predictions.cache()"
   ]
  },
  {
   "cell_type": "code",
   "execution_count": 22,
   "id": "1536b13a",
   "metadata": {},
   "outputs": [
    {
     "data": {
      "text/plain": [
       "3.280212302257174"
      ]
     },
     "execution_count": 22,
     "metadata": {},
     "output_type": "execute_result"
    }
   ],
   "source": [
    "lr_model.summary.rootMeanSquaredError"
   ]
  },
  {
   "cell_type": "code",
   "execution_count": 23,
   "id": "7b637412",
   "metadata": {},
   "outputs": [
    {
     "data": {
      "text/plain": [
       "0.7929713383050931"
      ]
     },
     "execution_count": 23,
     "metadata": {},
     "output_type": "execute_result"
    }
   ],
   "source": [
    "lr_model.summary.r2"
   ]
  },
  {
   "cell_type": "markdown",
   "id": "4e66a05d",
   "metadata": {},
   "source": [
    "# 튜닝된 모델 저장하기"
   ]
  },
  {
   "cell_type": "code",
   "execution_count": 26,
   "id": "39991c2b",
   "metadata": {},
   "outputs": [],
   "source": [
    "model_dir = \"home/ubuntu/working/spark-examples/data/ml-data/model/\"\n",
    "lr_model.save(model_dir)"
   ]
  },
  {
   "cell_type": "markdown",
   "id": "d9b8813e",
   "metadata": {},
   "source": [
    "# 모델 로딩"
   ]
  },
  {
   "cell_type": "code",
   "execution_count": 29,
   "id": "6abe2c8f",
   "metadata": {},
   "outputs": [],
   "source": [
    "# 저장된 모델을 불러올 때 저장한 모델의 클래스를 반드시 불러와야한다.\n",
    "from pyspark.ml.regression import LinearRegressionModel\n",
    "\n",
    "lr_model_load = LinearRegressionModel().load(model_dir)"
   ]
  },
  {
   "cell_type": "code",
   "execution_count": 31,
   "id": "f1ab5fa4",
   "metadata": {},
   "outputs": [
    {
     "name": "stdout",
     "output_type": "stream",
     "text": [
      "+---------------+------------------+-------------------+-------------+-----------+-----------+------------+----------------------+-------------------------+-----------------------+--------------------------+---------------+------------------+----------------------+----------------------+--------------------+--------------------+------------------+--------------------+--------------------+------------------+\n",
      "|passenger_count|pickup_location_id|dropoff_location_id|trip_distance|pickup_time|day_of_week|total_amount|pickup_location_id_idx|pickup_location_id_onehot|dropoff_location_id_idx|dropoff_location_id_onehot|day_of_week_idx|day_of_week_onehot|passenger_count_vector|passenger_count_scaled|trip_distance_vector|trip_distance_scaled|pickup_time_vector|  pickup_time_scaled|      feature_vector|        prediction|\n",
      "+---------------+------------------+-------------------+-------------+-----------+-----------+------------+----------------------+-------------------------+-----------------------+--------------------------+---------------+------------------+----------------------+----------------------+--------------------+--------------------+------------------+--------------------+--------------------+------------------+\n",
      "|              0|                 4|                 37|          6.5|         22|   Saturday|       34.75|                  62.0|         (262,[62],[1.0])|                   83.0|          (260,[83],[1.0])|            4.0|     (7,[4],[1.0])|                 [0.0]|                 [0.0]|               [6.5]|[3.6777208252543883]|            [22.0]|  [4.33901578412461]|(532,[62,345,526,...|31.564541827558024|\n",
      "|              0|                 4|                113|          1.0|         19|    Tuesday|        13.5|                  62.0|         (262,[62],[1.0])|                   32.0|          (260,[32],[1.0])|            3.0|     (7,[3],[1.0])|                 [0.0]|                 [0.0]|               [1.0]|[0.5658032038852905]|            [19.0]|[3.7473318135621634]|(532,[62,294,525,...|11.957294246395023|\n",
      "|              0|                 4|                137|          1.9|         12|     Sunday|        11.8|                  62.0|         (262,[62],[1.0])|                   25.0|          (260,[25],[1.0])|            6.0|     (7,[6],[1.0])|                 [0.0]|                 [0.0]|               [1.9]|[1.0750260873820519]|            [12.0]|[2.3667358822497873]|(532,[62,287,528,...|13.881585135661165|\n",
      "|              0|                 4|                158|          1.9|         13|   Saturday|        15.3|                  62.0|         (262,[62],[1.0])|                   38.0|          (260,[38],[1.0])|            4.0|     (7,[4],[1.0])|                 [0.0]|                 [0.0]|               [1.9]|[1.0750260873820519]|            [13.0]|[2.5639638724372693]|(532,[62,300,526,...| 14.65952802335853|\n",
      "|              0|                 4|                179|          6.6|          0|     Sunday|        29.8|                  62.0|         (262,[62],[1.0])|                   75.0|          (260,[75],[1.0])|            6.0|     (7,[6],[1.0])|                 [0.0]|                 [0.0]|               [6.6]| [3.734301145642917]|             [0.0]|               [0.0]|(532,[62,337,528,...|29.312617578149347|\n",
      "+---------------+------------------+-------------------+-------------+-----------+-----------+------------+----------------------+-------------------------+-----------------------+--------------------------+---------------+------------------+----------------------+----------------------+--------------------+--------------------+------------------+--------------------+--------------------+------------------+\n",
      "only showing top 5 rows\n",
      "\n"
     ]
    }
   ],
   "source": [
    "lr_model_load.transform(vec_test_sdf).show(5)"
   ]
  },
  {
   "cell_type": "code",
   "execution_count": 32,
   "id": "0fb417da",
   "metadata": {},
   "outputs": [],
   "source": [
    "spark.stop()"
   ]
  }
 ],
 "metadata": {
  "kernelspec": {
   "display_name": "Python 3 (ipykernel)",
   "language": "python",
   "name": "python3"
  },
  "language_info": {
   "codemirror_mode": {
    "name": "ipython",
    "version": 3
   },
   "file_extension": ".py",
   "mimetype": "text/x-python",
   "name": "python",
   "nbconvert_exporter": "python",
   "pygments_lexer": "ipython3",
   "version": "3.8.18"
  }
 },
 "nbformat": 4,
 "nbformat_minor": 5
}
