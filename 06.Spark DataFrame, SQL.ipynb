{
 "cells": [
  {
   "cell_type": "code",
   "execution_count": 1,
   "id": "8a63841f",
   "metadata": {},
   "outputs": [
    {
     "name": "stderr",
     "output_type": "stream",
     "text": [
      "Using Spark's default log4j profile: org/apache/spark/log4j-defaults.properties\n",
      "Setting default log level to \"WARN\".\n",
      "To adjust logging level use sc.setLogLevel(newLevel). For SparkR, use setLogLevel(newLevel).\n",
      "23/11/16 09:21:09 WARN NativeCodeLoader: Unable to load native-hadoop library for your platform... using builtin-java classes where applicable\n"
     ]
    },
    {
     "data": {
      "text/html": [
       "\n",
       "        <div>\n",
       "            <p><b>SparkContext</b></p>\n",
       "\n",
       "            <p><a href=\"http://0.0.0.0:4040\">Spark UI</a></p>\n",
       "\n",
       "            <dl>\n",
       "              <dt>Version</dt>\n",
       "                <dd><code>v3.2.4</code></dd>\n",
       "              <dt>Master</dt>\n",
       "                <dd><code>local</code></dd>\n",
       "              <dt>AppName</dt>\n",
       "                <dd><code>spark_sql_basic</code></dd>\n",
       "            </dl>\n",
       "        </div>\n",
       "        "
      ],
      "text/plain": [
       "<SparkContext master=local appName=spark_sql_basic>"
      ]
     },
     "execution_count": 1,
     "metadata": {},
     "output_type": "execute_result"
    }
   ],
   "source": [
    "from pyspark import SparkConf, SparkContext\n",
    "conf = SparkConf().setMaster(\"local\").setAppName(\"spark_sql_basic\")\n",
    "sc = SparkContext(conf=conf)\n",
    "sc"
   ]
  },
  {
   "cell_type": "code",
   "execution_count": 2,
   "id": "d4b0835c",
   "metadata": {},
   "outputs": [],
   "source": [
    "movies_rdd = sc.parallelize([\n",
    "    (1, (\"어벤져스\", \"마블\")),\n",
    "    (2, (\"슈퍼맨\", \"DC\")),\n",
    "    (3, (\"배트맨\", \"DC\")),\n",
    "    (4, (\"겨울왕국\", \"디즈니\")),\n",
    "    (5, (\"아이언맨\", \"마블\"))\n",
    "])\n",
    "\n",
    "attendances_rdd = sc.parallelize([\n",
    "    (1, (13934592, \"KR\")),\n",
    "    (2, (2182227,\"KR\")),\n",
    "    (3, (4226242, \"KR\")),\n",
    "    (4, (10303058, \"KR\")),\n",
    "    (5, (4300365, \"KR\"))\n",
    "])"
   ]
  },
  {
   "cell_type": "markdown",
   "id": "494035c7",
   "metadata": {},
   "source": [
    "마블 영화 중 관객수가 500만 이상인 영화 가져오기"
   ]
  },
  {
   "cell_type": "code",
   "execution_count": 4,
   "id": "268b5ca8",
   "metadata": {},
   "outputs": [
    {
     "data": {
      "text/plain": [
       "[(1, (('어벤져스', '마블'), (13934592, 'KR')))]"
      ]
     },
     "execution_count": 4,
     "metadata": {},
     "output_type": "execute_result"
    }
   ],
   "source": [
    "# CASE 1 : Join을 먼저, Filter 나중에\n",
    "movie_att_rdd = movies_rdd.join(attendances_rdd)\n",
    "movie_att_rdd.filter(lambda x : x[1][0][1] == '마블' and x[1][1][0] >= 5000000).collect()"
   ]
  },
  {
   "cell_type": "code",
   "execution_count": 5,
   "id": "36e76ae5",
   "metadata": {},
   "outputs": [
    {
     "data": {
      "text/plain": [
       "[(1, (('어벤져스', '마블'), (13934592, 'KR')))]"
      ]
     },
     "execution_count": 5,
     "metadata": {},
     "output_type": "execute_result"
    }
   ],
   "source": [
    "# CASE 2 : Filter 먼저, Join을 나중에\n",
    "filtered_movies = movies_rdd.filter(lambda x : x[1][1] == \"마블\")\n",
    "filtered_attendances = attendances_rdd.filter(lambda x : x[1][0] >= 5000000)\n",
    "\n",
    "filtered_movies.join(filtered_attendances).collect()"
   ]
  },
  {
   "cell_type": "markdown",
   "id": "357aeeae",
   "metadata": {},
   "source": [
    "동일한 결과가 나오긴 하지만 filter를 먼저 수행해서 가져올 데이터를 걸러 낸 다음, join을 하는 CASE 2가 훨씬 효율적이다.\n",
    "<pre>\n",
    "매번 이런 고민을 하기엔 시간이 너무 아깝고 개발자 마다 성능 차이도 심하다.\n",
    "</pre>"
   ]
  },
  {
   "cell_type": "code",
   "execution_count": 6,
   "id": "e77a1718",
   "metadata": {},
   "outputs": [],
   "source": [
    "sc.stop()"
   ]
  },
  {
   "cell_type": "markdown",
   "id": "e658164d",
   "metadata": {},
   "source": [
    "# 1. SparkSession 생성하기\n",
    "- `SparkContext`에 해당하며, 새로운 스파크 어플리케이션을 만들어준다."
   ]
  },
  {
   "cell_type": "code",
   "execution_count": 7,
   "id": "a128348a",
   "metadata": {},
   "outputs": [
    {
     "data": {
      "text/html": [
       "\n",
       "            <div>\n",
       "                <p><b>SparkSession - in-memory</b></p>\n",
       "                \n",
       "        <div>\n",
       "            <p><b>SparkContext</b></p>\n",
       "\n",
       "            <p><a href=\"http://0.0.0.0:4040\">Spark UI</a></p>\n",
       "\n",
       "            <dl>\n",
       "              <dt>Version</dt>\n",
       "                <dd><code>v3.2.4</code></dd>\n",
       "              <dt>Master</dt>\n",
       "                <dd><code>local</code></dd>\n",
       "              <dt>AppName</dt>\n",
       "                <dd><code>spark-sql</code></dd>\n",
       "            </dl>\n",
       "        </div>\n",
       "        \n",
       "            </div>\n",
       "        "
      ],
      "text/plain": [
       "<pyspark.sql.session.SparkSession at 0x7fc03876a4f0>"
      ]
     },
     "execution_count": 7,
     "metadata": {},
     "output_type": "execute_result"
    }
   ],
   "source": [
    "from pyspark.sql import SparkSession\n",
    "\n",
    "spark = SparkSession.builder.master(\"local\").appName(\"spark-sql\").getOrCreate()\n",
    "spark"
   ]
  },
  {
   "cell_type": "code",
   "execution_count": 8,
   "id": "67c3594f",
   "metadata": {},
   "outputs": [],
   "source": [
    "movies = [\n",
    "    (1, \"어벤져스\", \"마블\", 2012, 4, 26),\n",
    "    (2, \"슈퍼맨\", \"DC\", 2013, 6, 13),\n",
    "    (3, \"배트맨\", \"DC\", 2008, 8, 6),\n",
    "    (4, \"겨울왕국\", \"디즈니\", 2014, 1, 16),\n",
    "    (5, \"아이언맨\", \"마블\", 2008, 4, 30)\n",
    "]"
   ]
  },
  {
   "cell_type": "code",
   "execution_count": 9,
   "id": "cbad8a8d",
   "metadata": {},
   "outputs": [],
   "source": [
    "movie_schema = [\"id\", \"name\", \"company\", \"year\", \"month\", \"day\"]"
   ]
  },
  {
   "cell_type": "markdown",
   "id": "8172bed0",
   "metadata": {},
   "source": [
    "# 2. 데이터 프레임 생성"
   ]
  },
  {
   "cell_type": "code",
   "execution_count": 10,
   "id": "35f9ce93",
   "metadata": {},
   "outputs": [
    {
     "data": {
      "text/plain": [
       "DataFrame[id: bigint, name: string, company: string, year: bigint, month: bigint, day: bigint]"
      ]
     },
     "execution_count": 10,
     "metadata": {},
     "output_type": "execute_result"
    }
   ],
   "source": [
    "movie_sdf = spark.createDataFrame(data=movies, schema=movie_schema)\n",
    "movie_sdf"
   ]
  },
  {
   "cell_type": "code",
   "execution_count": 11,
   "id": "65ef9f43",
   "metadata": {},
   "outputs": [
    {
     "data": {
      "text/plain": [
       "[('id', 'bigint'),\n",
       " ('name', 'string'),\n",
       " ('company', 'string'),\n",
       " ('year', 'bigint'),\n",
       " ('month', 'bigint'),\n",
       " ('day', 'bigint')]"
      ]
     },
     "execution_count": 11,
     "metadata": {},
     "output_type": "execute_result"
    }
   ],
   "source": [
    "# 스키마 정보 확인\n",
    "movie_sdf.dtypes"
   ]
  },
  {
   "cell_type": "code",
   "execution_count": 12,
   "id": "a006eed8",
   "metadata": {},
   "outputs": [
    {
     "name": "stderr",
     "output_type": "stream",
     "text": [
      "\r\n",
      "[Stage 0:>                                                          (0 + 1) / 1]\r"
     ]
    },
    {
     "name": "stdout",
     "output_type": "stream",
     "text": [
      "+---+--------+-------+----+-----+---+\n",
      "| id|    name|company|year|month|day|\n",
      "+---+--------+-------+----+-----+---+\n",
      "|  1|어벤져스|   마블|2012|    4| 26|\n",
      "|  2|  슈퍼맨|     DC|2013|    6| 13|\n",
      "|  3|  배트맨|     DC|2008|    8|  6|\n",
      "|  4|겨울왕국| 디즈니|2014|    1| 16|\n",
      "|  5|아이언맨|   마블|2008|    4| 30|\n",
      "+---+--------+-------+----+-----+---+\n",
      "\n"
     ]
    },
    {
     "name": "stderr",
     "output_type": "stream",
     "text": [
      "\r\n",
      "                                                                                \r"
     ]
    }
   ],
   "source": [
    "movie_sdf.show()  # show() = action"
   ]
  },
  {
   "cell_type": "markdown",
   "id": "61f02d36",
   "metadata": {},
   "source": [
    "# 3. Spark SQL 사용하기\n",
    "- DataFrame을 임시 뷰로 해줘야 Spark SQL을 사용할 수 있음\n",
    "- `createOrReplaceTempView` 함수를 이용해서 DataFrame에 SQL을 사용할 수 있는 View를 만들어 준다."
   ]
  },
  {
   "cell_type": "code",
   "execution_count": 13,
   "id": "e09301a0",
   "metadata": {},
   "outputs": [],
   "source": [
    "movie_sdf.createOrReplaceTempView(\"movies\")"
   ]
  },
  {
   "cell_type": "code",
   "execution_count": 15,
   "id": "50f9c24e",
   "metadata": {},
   "outputs": [
    {
     "name": "stdout",
     "output_type": "stream",
     "text": [
      "+--------+\n",
      "|    name|\n",
      "+--------+\n",
      "|어벤져스|\n",
      "|  슈퍼맨|\n",
      "|  배트맨|\n",
      "|겨울왕국|\n",
      "|아이언맨|\n",
      "+--------+\n",
      "\n"
     ]
    }
   ],
   "source": [
    "query = \"\"\"\n",
    "\n",
    "    SELECT name\n",
    "    FROM movies\n",
    "\n",
    "\"\"\"\n",
    "\n",
    "# 쿼리 실행\n",
    "spark.sql(query).show()"
   ]
  },
  {
   "cell_type": "code",
   "execution_count": 16,
   "id": "bc863464",
   "metadata": {},
   "outputs": [
    {
     "name": "stdout",
     "output_type": "stream",
     "text": [
      "+--------+----+\n",
      "|    name|year|\n",
      "+--------+----+\n",
      "|어벤져스|2012|\n",
      "|  슈퍼맨|2013|\n",
      "|  배트맨|2008|\n",
      "|겨울왕국|2014|\n",
      "|아이언맨|2008|\n",
      "+--------+----+\n",
      "\n"
     ]
    }
   ],
   "source": [
    "# 영화 이름, 개봉 연도 가져오기\n",
    "query = \"\"\"\n",
    "\n",
    "    SELECT name, year\n",
    "    FROM movies\n",
    "\n",
    "\"\"\"\n",
    "\n",
    "spark.sql(query).show()"
   ]
  },
  {
   "cell_type": "code",
   "execution_count": 17,
   "id": "bfae18d3",
   "metadata": {},
   "outputs": [
    {
     "name": "stdout",
     "output_type": "stream",
     "text": [
      "+---+--------+-------+----+-----+---+\n",
      "| id|    name|company|year|month|day|\n",
      "+---+--------+-------+----+-----+---+\n",
      "|  1|어벤져스|   마블|2012|    4| 26|\n",
      "|  2|  슈퍼맨|     DC|2013|    6| 13|\n",
      "|  4|겨울왕국| 디즈니|2014|    1| 16|\n",
      "+---+--------+-------+----+-----+---+\n",
      "\n"
     ]
    }
   ],
   "source": [
    "# 2010년도 이후에 개봉한 영화의 모든 정보\n",
    "query = \"\"\"\n",
    "\n",
    "    SELECT *\n",
    "    FROM movies\n",
    "    WHERE year >= 2010\n",
    "\n",
    "\"\"\"\n",
    "\n",
    "spark.sql(query).show()"
   ]
  },
  {
   "cell_type": "code",
   "execution_count": 19,
   "id": "02c6a2e3",
   "metadata": {},
   "outputs": [
    {
     "name": "stdout",
     "output_type": "stream",
     "text": [
      "+---+--------+-------+----+-----+---+\n",
      "| id|    name|company|year|month|day|\n",
      "+---+--------+-------+----+-----+---+\n",
      "|  1|어벤져스|   마블|2012|    4| 26|\n",
      "+---+--------+-------+----+-----+---+\n",
      "\n"
     ]
    }
   ],
   "source": [
    "# 2010년도 이후에 개봉한 마블 영화의 모든 정보\n",
    "query = \"\"\"\n",
    "\n",
    "    SELECT *\n",
    "    FROM movies\n",
    "    WHERE year >= 2010 and company = \"마블\"\n",
    "\n",
    "\"\"\"\n",
    "\n",
    "spark.sql(query).show()"
   ]
  },
  {
   "cell_type": "code",
   "execution_count": 20,
   "id": "f5d0138a",
   "metadata": {},
   "outputs": [
    {
     "name": "stdout",
     "output_type": "stream",
     "text": [
      "+---+--------+-------+----+-----+---+\n",
      "| id|    name|company|year|month|day|\n",
      "+---+--------+-------+----+-----+---+\n",
      "|  2|  슈퍼맨|     DC|2013|    6| 13|\n",
      "|  3|  배트맨|     DC|2008|    8|  6|\n",
      "|  5|아이언맨|   마블|2008|    4| 30|\n",
      "+---+--------+-------+----+-----+---+\n",
      "\n"
     ]
    }
   ],
   "source": [
    "# ~맨으로 끝나는 영화의 모든 정보\n",
    "query = \"\"\"\n",
    "\n",
    "    SELECT *\n",
    "    FROM movies\n",
    "    WHERE name LIKE \"%맨\"\n",
    "\n",
    "\"\"\"\n",
    "\n",
    "spark.sql(query).show()"
   ]
  },
  {
   "cell_type": "code",
   "execution_count": 21,
   "id": "99f2d1e3",
   "metadata": {},
   "outputs": [
    {
     "name": "stdout",
     "output_type": "stream",
     "text": [
      "+---+--------+-------+----+-----+---+\n",
      "| id|    name|company|year|month|day|\n",
      "+---+--------+-------+----+-----+---+\n",
      "|  1|어벤져스|   마블|2012|    4| 26|\n",
      "+---+--------+-------+----+-----+---+\n",
      "\n"
     ]
    }
   ],
   "source": [
    "# id가 3번인 영화보다 늦게 개봉한 마블영화의 모든 정보(연도만 고려)\n",
    "query = \"\"\"\n",
    "\n",
    "    SELECT *\n",
    "    FROM movies\n",
    "    WHERE company = '마블' and year > (SELECT year\n",
    "                                       FROM movies\n",
    "                                       WHERE id == 3)\n",
    "\"\"\"\n",
    "\n",
    "spark.sql(query).show()"
   ]
  },
  {
   "cell_type": "markdown",
   "id": "b8b8ae78",
   "metadata": {},
   "source": [
    "## JOIN 구현"
   ]
  },
  {
   "cell_type": "code",
   "execution_count": 22,
   "id": "d58987a7",
   "metadata": {},
   "outputs": [],
   "source": [
    "attendances = [\n",
    "    (1, 13934592., \"KR\"),\n",
    "    (2, 2182227.,\"KR\"),\n",
    "    (3, 4226242., \"KR\"),\n",
    "    (4, 10303058., \"KR\"),\n",
    "    (5, 4300365., \"KR\")\n",
    "]"
   ]
  },
  {
   "cell_type": "code",
   "execution_count": 23,
   "id": "0e2a915a",
   "metadata": {},
   "outputs": [],
   "source": [
    "# 자료형 타입 불러오기\n",
    "from pyspark.sql.types import StringType, FloatType, IntegerType\n",
    "\n",
    "# 구조를 만들기 위한 타입 불러오기(필수). 컬럼 순서 등\n",
    "from pyspark.sql.types import StructField, StructType"
   ]
  },
  {
   "cell_type": "code",
   "execution_count": 24,
   "id": "9f56e070",
   "metadata": {},
   "outputs": [],
   "source": [
    "att_schema = StructType([\n",
    "    StructField(\"id\", IntegerType(), True),  # True : Not Null 의미\n",
    "    StructField(\"attendance\", FloatType(), True),\n",
    "    StructField(\"country\", StringType(), True)\n",
    "])"
   ]
  },
  {
   "cell_type": "code",
   "execution_count": 25,
   "id": "15badcb8",
   "metadata": {},
   "outputs": [
    {
     "data": {
      "text/plain": [
       "DataFrame[id: int, attendance: float, country: string]"
      ]
     },
     "execution_count": 25,
     "metadata": {},
     "output_type": "execute_result"
    }
   ],
   "source": [
    "att_df = spark.createDataFrame(data=attendances, schema=att_schema)\n",
    "att_df"
   ]
  },
  {
   "cell_type": "code",
   "execution_count": 26,
   "id": "94b0c245",
   "metadata": {},
   "outputs": [],
   "source": [
    "att_df.createOrReplaceTempView(\"att\")"
   ]
  },
  {
   "cell_type": "code",
   "execution_count": 27,
   "id": "589c2a39",
   "metadata": {},
   "outputs": [
    {
     "name": "stdout",
     "output_type": "stream",
     "text": [
      "+---+--------+-------+----+-----+---+---+-----------+-------+\n",
      "| id|    name|company|year|month|day| id| attendance|country|\n",
      "+---+--------+-------+----+-----+---+---+-----------+-------+\n",
      "|  1|어벤져스|   마블|2012|    4| 26|  1|1.3934592E7|     KR|\n",
      "|  2|  슈퍼맨|     DC|2013|    6| 13|  2|  2182227.0|     KR|\n",
      "|  3|  배트맨|     DC|2008|    8|  6|  3|  4226242.0|     KR|\n",
      "|  4|겨울왕국| 디즈니|2014|    1| 16|  4|1.0303058E7|     KR|\n",
      "|  5|아이언맨|   마블|2008|    4| 30|  5|  4300365.0|     KR|\n",
      "+---+--------+-------+----+-----+---+---+-----------+-------+\n",
      "\n"
     ]
    }
   ],
   "source": [
    "# movies , att id를 기반으로 JOIN\n",
    "query = \"\"\"\n",
    "\n",
    "    SELECT *\n",
    "    FROM movies, att\n",
    "    WHERE movies.id = att.id\n",
    "\n",
    "\"\"\"\n",
    "\n",
    "spark.sql(query).show()"
   ]
  },
  {
   "cell_type": "code",
   "execution_count": 28,
   "id": "a0e35397",
   "metadata": {},
   "outputs": [],
   "source": [
    "spark.stop()"
   ]
  }
 ],
 "metadata": {
  "kernelspec": {
   "display_name": "Python 3 (ipykernel)",
   "language": "python",
   "name": "python3"
  },
  "language_info": {
   "codemirror_mode": {
    "name": "ipython",
    "version": 3
   },
   "file_extension": ".py",
   "mimetype": "text/x-python",
   "name": "python",
   "nbconvert_exporter": "python",
   "pygments_lexer": "ipython3",
   "version": "3.8.18"
  }
 },
 "nbformat": 4,
 "nbformat_minor": 5
}
